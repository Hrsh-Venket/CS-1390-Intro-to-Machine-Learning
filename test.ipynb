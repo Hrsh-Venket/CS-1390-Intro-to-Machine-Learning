{
 "cells": [
  {
   "cell_type": "code",
   "execution_count": 16,
   "metadata": {},
   "outputs": [],
   "source": [
    "import sklearn\n",
    "import csv\n",
    "import numpy as np # linear algebra\n",
    "import pandas as pd # data processing, CSV file I/O (e.g. pd.read_csv)\n",
    "import matplotlib"
   ]
  },
  {
   "cell_type": "markdown",
   "metadata": {},
   "source": []
  },
  {
   "cell_type": "code",
   "execution_count": 22,
   "metadata": {},
   "outputs": [],
   "source": [
    "data = pd.read_csv(\"austin_final.csv\")\n",
    "\n",
    "\n",
    "X = data.drop(['PrecipitationSumInches'], axis = 1)\n",
    "\n",
    "X = X.filter(['TempAvgF', 'DewPointAvgF', 'HumidityAvgPercent', \n",
    "'SeaLevelPressureAvgInches', 'VisibilityAvgMiles', 'WindAvgMPH'], axis = 1)\n",
    "\n",
    "Y = data['PrecipitationSumInches']\n",
    "\n",
    "# reshaping it into a 2-D vector\n",
    "\n",
    "Y = Y.values.reshape(-1, 1)\n"
   ]
  }
 ],
 "metadata": {
  "kernelspec": {
   "display_name": "base",
   "language": "python",
   "name": "python3"
  },
  "language_info": {
   "codemirror_mode": {
    "name": "ipython",
    "version": 3
   },
   "file_extension": ".py",
   "mimetype": "text/x-python",
   "name": "python",
   "nbconvert_exporter": "python",
   "pygments_lexer": "ipython3",
   "version": "3.10.9"
  },
  "orig_nbformat": 4,
  "vscode": {
   "interpreter": {
    "hash": "ed03f942d4d342e3577235f5425b1efbbdd979dc25e5fdd5ede46e9cb200dc7f"
   }
  }
 },
 "nbformat": 4,
 "nbformat_minor": 2
}
