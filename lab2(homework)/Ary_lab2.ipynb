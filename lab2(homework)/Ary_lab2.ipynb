{
  "cells": [
    {
      "cell_type": "code",
      "execution_count": 115,
      "id": "7b93cdad",
      "metadata": {
        "id": "7b93cdad"
      },
      "outputs": [],
      "source": [
        "import csv"
      ]
    },
    {
      "cell_type": "code",
      "execution_count": 116,
      "id": "09146aff",
      "metadata": {
        "id": "09146aff"
      },
      "outputs": [],
      "source": [
        "import pandas as pd"
      ]
    },
    {
      "cell_type": "code",
      "execution_count": 117,
      "id": "451d9e85",
      "metadata": {
        "id": "451d9e85"
      },
      "outputs": [],
      "source": [
        "import numpy as np"
      ]
    },
    {
      "cell_type": "code",
      "execution_count": 118,
      "id": "1ca28bd5",
      "metadata": {
        "id": "1ca28bd5"
      },
      "outputs": [],
      "source": [
        "import matplotlib.pyplot as plt\n",
        "%matplotlib inline"
      ]
    },
    {
      "cell_type": "code",
      "execution_count": 119,
      "id": "b5abbf2d",
      "metadata": {
        "id": "b5abbf2d"
      },
      "outputs": [],
      "source": [
        "df = pd.read_csv('Admission_Predict.csv')"
      ]
    },
    {
      "cell_type": "code",
      "execution_count": 120,
      "id": "f70ee178",
      "metadata": {
        "colab": {
          "base_uri": "https://localhost:8080/",
          "height": 424
        },
        "id": "f70ee178",
        "outputId": "b554e963-0656-4917-849b-07da6b5b7845"
      },
      "outputs": [
        {
          "data": {
            "text/html": [
              "<div>\n",
              "<style scoped>\n",
              "    .dataframe tbody tr th:only-of-type {\n",
              "        vertical-align: middle;\n",
              "    }\n",
              "\n",
              "    .dataframe tbody tr th {\n",
              "        vertical-align: top;\n",
              "    }\n",
              "\n",
              "    .dataframe thead th {\n",
              "        text-align: right;\n",
              "    }\n",
              "</style>\n",
              "<table border=\"1\" class=\"dataframe\">\n",
              "  <thead>\n",
              "    <tr style=\"text-align: right;\">\n",
              "      <th></th>\n",
              "      <th>Serial No.</th>\n",
              "      <th>GRE Score</th>\n",
              "      <th>TOEFL Score</th>\n",
              "      <th>University Rating</th>\n",
              "      <th>SOP</th>\n",
              "      <th>LOR</th>\n",
              "      <th>CGPA</th>\n",
              "      <th>Research</th>\n",
              "      <th>Chance of Admit</th>\n",
              "    </tr>\n",
              "  </thead>\n",
              "  <tbody>\n",
              "    <tr>\n",
              "      <th>0</th>\n",
              "      <td>1</td>\n",
              "      <td>337</td>\n",
              "      <td>118</td>\n",
              "      <td>4</td>\n",
              "      <td>4.5</td>\n",
              "      <td>4.5</td>\n",
              "      <td>9.65</td>\n",
              "      <td>1</td>\n",
              "      <td>0.92</td>\n",
              "    </tr>\n",
              "    <tr>\n",
              "      <th>1</th>\n",
              "      <td>2</td>\n",
              "      <td>324</td>\n",
              "      <td>107</td>\n",
              "      <td>4</td>\n",
              "      <td>4.0</td>\n",
              "      <td>4.5</td>\n",
              "      <td>8.87</td>\n",
              "      <td>1</td>\n",
              "      <td>0.76</td>\n",
              "    </tr>\n",
              "    <tr>\n",
              "      <th>2</th>\n",
              "      <td>3</td>\n",
              "      <td>316</td>\n",
              "      <td>104</td>\n",
              "      <td>3</td>\n",
              "      <td>3.0</td>\n",
              "      <td>3.5</td>\n",
              "      <td>8.00</td>\n",
              "      <td>1</td>\n",
              "      <td>0.72</td>\n",
              "    </tr>\n",
              "    <tr>\n",
              "      <th>3</th>\n",
              "      <td>4</td>\n",
              "      <td>322</td>\n",
              "      <td>110</td>\n",
              "      <td>3</td>\n",
              "      <td>3.5</td>\n",
              "      <td>2.5</td>\n",
              "      <td>8.67</td>\n",
              "      <td>1</td>\n",
              "      <td>0.80</td>\n",
              "    </tr>\n",
              "    <tr>\n",
              "      <th>4</th>\n",
              "      <td>5</td>\n",
              "      <td>314</td>\n",
              "      <td>103</td>\n",
              "      <td>2</td>\n",
              "      <td>2.0</td>\n",
              "      <td>3.0</td>\n",
              "      <td>8.21</td>\n",
              "      <td>0</td>\n",
              "      <td>0.65</td>\n",
              "    </tr>\n",
              "    <tr>\n",
              "      <th>...</th>\n",
              "      <td>...</td>\n",
              "      <td>...</td>\n",
              "      <td>...</td>\n",
              "      <td>...</td>\n",
              "      <td>...</td>\n",
              "      <td>...</td>\n",
              "      <td>...</td>\n",
              "      <td>...</td>\n",
              "      <td>...</td>\n",
              "    </tr>\n",
              "    <tr>\n",
              "      <th>395</th>\n",
              "      <td>396</td>\n",
              "      <td>324</td>\n",
              "      <td>110</td>\n",
              "      <td>3</td>\n",
              "      <td>3.5</td>\n",
              "      <td>3.5</td>\n",
              "      <td>9.04</td>\n",
              "      <td>1</td>\n",
              "      <td>0.82</td>\n",
              "    </tr>\n",
              "    <tr>\n",
              "      <th>396</th>\n",
              "      <td>397</td>\n",
              "      <td>325</td>\n",
              "      <td>107</td>\n",
              "      <td>3</td>\n",
              "      <td>3.0</td>\n",
              "      <td>3.5</td>\n",
              "      <td>9.11</td>\n",
              "      <td>1</td>\n",
              "      <td>0.84</td>\n",
              "    </tr>\n",
              "    <tr>\n",
              "      <th>397</th>\n",
              "      <td>398</td>\n",
              "      <td>330</td>\n",
              "      <td>116</td>\n",
              "      <td>4</td>\n",
              "      <td>5.0</td>\n",
              "      <td>4.5</td>\n",
              "      <td>9.45</td>\n",
              "      <td>1</td>\n",
              "      <td>0.91</td>\n",
              "    </tr>\n",
              "    <tr>\n",
              "      <th>398</th>\n",
              "      <td>399</td>\n",
              "      <td>312</td>\n",
              "      <td>103</td>\n",
              "      <td>3</td>\n",
              "      <td>3.5</td>\n",
              "      <td>4.0</td>\n",
              "      <td>8.78</td>\n",
              "      <td>0</td>\n",
              "      <td>0.67</td>\n",
              "    </tr>\n",
              "    <tr>\n",
              "      <th>399</th>\n",
              "      <td>400</td>\n",
              "      <td>333</td>\n",
              "      <td>117</td>\n",
              "      <td>4</td>\n",
              "      <td>5.0</td>\n",
              "      <td>4.0</td>\n",
              "      <td>9.66</td>\n",
              "      <td>1</td>\n",
              "      <td>0.95</td>\n",
              "    </tr>\n",
              "  </tbody>\n",
              "</table>\n",
              "<p>400 rows × 9 columns</p>\n",
              "</div>"
            ],
            "text/plain": [
              "     Serial No.  GRE Score  TOEFL Score  University Rating  SOP  LOR   CGPA  \\\n",
              "0             1        337          118                  4  4.5   4.5  9.65   \n",
              "1             2        324          107                  4  4.0   4.5  8.87   \n",
              "2             3        316          104                  3  3.0   3.5  8.00   \n",
              "3             4        322          110                  3  3.5   2.5  8.67   \n",
              "4             5        314          103                  2  2.0   3.0  8.21   \n",
              "..          ...        ...          ...                ...  ...   ...   ...   \n",
              "395         396        324          110                  3  3.5   3.5  9.04   \n",
              "396         397        325          107                  3  3.0   3.5  9.11   \n",
              "397         398        330          116                  4  5.0   4.5  9.45   \n",
              "398         399        312          103                  3  3.5   4.0  8.78   \n",
              "399         400        333          117                  4  5.0   4.0  9.66   \n",
              "\n",
              "     Research  Chance of Admit   \n",
              "0           1              0.92  \n",
              "1           1              0.76  \n",
              "2           1              0.72  \n",
              "3           1              0.80  \n",
              "4           0              0.65  \n",
              "..        ...               ...  \n",
              "395         1              0.82  \n",
              "396         1              0.84  \n",
              "397         1              0.91  \n",
              "398         0              0.67  \n",
              "399         1              0.95  \n",
              "\n",
              "[400 rows x 9 columns]"
            ]
          },
          "execution_count": 120,
          "metadata": {},
          "output_type": "execute_result"
        }
      ],
      "source": [
        "df"
      ]
    },
    {
      "cell_type": "code",
      "execution_count": 121,
      "id": "0eadd3f9",
      "metadata": {
        "colab": {
          "base_uri": "https://localhost:8080/",
          "height": 283
        },
        "id": "0eadd3f9",
        "outputId": "7244b1ea-84c0-46d9-a160-ee0e941878ba"
      },
      "outputs": [
        {
          "data": {
            "text/plain": [
              "<Axes: >"
            ]
          },
          "execution_count": 121,
          "metadata": {},
          "output_type": "execute_result"
        },
        {
          "data": {
            "image/png": "[encoded data removed]",
            "text/plain": [
              "<Figure size 640x480 with 1 Axes>"
            ]
          },
          "metadata": {},
          "output_type": "display_data"
        }
      ],
      "source": [
        "df['Chance of Admit '].hist()"
      ]
    },
    {
      "cell_type": "raw",
      "id": "d1f33b2d",
      "metadata": {
        "id": "d1f33b2d"
      },
      "source": [
        "We have to convert `Chance of Admit` to a binary decision `Admit`. For this we are using the median as the threshold. This will give nearly equal number of Admits and Rejects "
      ]
    },
    {
      "cell_type": "code",
      "execution_count": 122,
      "id": "beb789ed",
      "metadata": {
        "colab": {
          "base_uri": "https://localhost:8080/"
        },
        "id": "beb789ed",
        "outputId": "024b0dd8-bbb2-44db-81d6-857ca01b42bd"
      },
      "outputs": [
        {
          "data": {
            "text/plain": [
              "0.73"
            ]
          },
          "execution_count": 122,
          "metadata": {},
          "output_type": "execute_result"
        }
      ],
      "source": [
        "df['Chance of Admit '].median()"
      ]
    },
    {
      "cell_type": "code",
      "execution_count": 123,
      "id": "8c260235",
      "metadata": {
        "id": "8c260235"
      },
      "outputs": [],
      "source": [
        "df['Admit'] = df['Chance of Admit ']>0.73"
      ]
    },
    {
      "cell_type": "code",
      "execution_count": 124,
      "id": "a20bc995",
      "metadata": {
        "colab": {
          "base_uri": "https://localhost:8080/",
          "height": 424
        },
        "id": "a20bc995",
        "outputId": "7cd4eda0-4673-4d87-f429-9153cc067f87"
      },
      "outputs": [
        {
          "data": {
            "text/html": [
              "<div>\n",
              "<style scoped>\n",
              "    .dataframe tbody tr th:only-of-type {\n",
              "        vertical-align: middle;\n",
              "    }\n",
              "\n",
              "    .dataframe tbody tr th {\n",
              "        vertical-align: top;\n",
              "    }\n",
              "\n",
              "    .dataframe thead th {\n",
              "        text-align: right;\n",
              "    }\n",
              "</style>\n",
              "<table border=\"1\" class=\"dataframe\">\n",
              "  <thead>\n",
              "    <tr style=\"text-align: right;\">\n",
              "      <th></th>\n",
              "      <th>Serial No.</th>\n",
              "      <th>GRE Score</th>\n",
              "      <th>TOEFL Score</th>\n",
              "      <th>University Rating</th>\n",
              "      <th>SOP</th>\n",
              "      <th>LOR</th>\n",
              "      <th>CGPA</th>\n",
              "      <th>Research</th>\n",
              "      <th>Chance of Admit</th>\n",
              "      <th>Admit</th>\n",
              "    </tr>\n",
              "  </thead>\n",
              "  <tbody>\n",
              "    <tr>\n",
              "      <th>0</th>\n",
              "      <td>1</td>\n",
              "      <td>337</td>\n",
              "      <td>118</td>\n",
              "      <td>4</td>\n",
              "      <td>4.5</td>\n",
              "      <td>4.5</td>\n",
              "      <td>9.65</td>\n",
              "      <td>1</td>\n",
              "      <td>0.92</td>\n",
              "      <td>True</td>\n",
              "    </tr>\n",
              "    <tr>\n",
              "      <th>1</th>\n",
              "      <td>2</td>\n",
              "      <td>324</td>\n",
              "      <td>107</td>\n",
              "      <td>4</td>\n",
              "      <td>4.0</td>\n",
              "      <td>4.5</td>\n",
              "      <td>8.87</td>\n",
              "      <td>1</td>\n",
              "      <td>0.76</td>\n",
              "      <td>True</td>\n",
              "    </tr>\n",
              "    <tr>\n",
              "      <th>2</th>\n",
              "      <td>3</td>\n",
              "      <td>316</td>\n",
              "      <td>104</td>\n",
              "      <td>3</td>\n",
              "      <td>3.0</td>\n",
              "      <td>3.5</td>\n",
              "      <td>8.00</td>\n",
              "      <td>1</td>\n",
              "      <td>0.72</td>\n",
              "      <td>False</td>\n",
              "    </tr>\n",
              "    <tr>\n",
              "      <th>3</th>\n",
              "      <td>4</td>\n",
              "      <td>322</td>\n",
              "      <td>110</td>\n",
              "      <td>3</td>\n",
              "      <td>3.5</td>\n",
              "      <td>2.5</td>\n",
              "      <td>8.67</td>\n",
              "      <td>1</td>\n",
              "      <td>0.80</td>\n",
              "      <td>True</td>\n",
              "    </tr>\n",
              "    <tr>\n",
              "      <th>4</th>\n",
              "      <td>5</td>\n",
              "      <td>314</td>\n",
              "      <td>103</td>\n",
              "      <td>2</td>\n",
              "      <td>2.0</td>\n",
              "      <td>3.0</td>\n",
              "      <td>8.21</td>\n",
              "      <td>0</td>\n",
              "      <td>0.65</td>\n",
              "      <td>False</td>\n",
              "    </tr>\n",
              "    <tr>\n",
              "      <th>...</th>\n",
              "      <td>...</td>\n",
              "      <td>...</td>\n",
              "      <td>...</td>\n",
              "      <td>...</td>\n",
              "      <td>...</td>\n",
              "      <td>...</td>\n",
              "      <td>...</td>\n",
              "      <td>...</td>\n",
              "      <td>...</td>\n",
              "      <td>...</td>\n",
              "    </tr>\n",
              "    <tr>\n",
              "      <th>395</th>\n",
              "      <td>396</td>\n",
              "      <td>324</td>\n",
              "      <td>110</td>\n",
              "      <td>3</td>\n",
              "      <td>3.5</td>\n",
              "      <td>3.5</td>\n",
              "      <td>9.04</td>\n",
              "      <td>1</td>\n",
              "      <td>0.82</td>\n",
              "      <td>True</td>\n",
              "    </tr>\n",
              "    <tr>\n",
              "      <th>396</th>\n",
              "      <td>397</td>\n",
              "      <td>325</td>\n",
              "      <td>107</td>\n",
              "      <td>3</td>\n",
              "      <td>3.0</td>\n",
              "      <td>3.5</td>\n",
              "      <td>9.11</td>\n",
              "      <td>1</td>\n",
              "      <td>0.84</td>\n",
              "      <td>True</td>\n",
              "    </tr>\n",
              "    <tr>\n",
              "      <th>397</th>\n",
              "      <td>398</td>\n",
              "      <td>330</td>\n",
              "      <td>116</td>\n",
              "      <td>4</td>\n",
              "      <td>5.0</td>\n",
              "      <td>4.5</td>\n",
              "      <td>9.45</td>\n",
              "      <td>1</td>\n",
              "      <td>0.91</td>\n",
              "      <td>True</td>\n",
              "    </tr>\n",
              "    <tr>\n",
              "      <th>398</th>\n",
              "      <td>399</td>\n",
              "      <td>312</td>\n",
              "      <td>103</td>\n",
              "      <td>3</td>\n",
              "      <td>3.5</td>\n",
              "      <td>4.0</td>\n",
              "      <td>8.78</td>\n",
              "      <td>0</td>\n",
              "      <td>0.67</td>\n",
              "      <td>False</td>\n",
              "    </tr>\n",
              "    <tr>\n",
              "      <th>399</th>\n",
              "      <td>400</td>\n",
              "      <td>333</td>\n",
              "      <td>117</td>\n",
              "      <td>4</td>\n",
              "      <td>5.0</td>\n",
              "      <td>4.0</td>\n",
              "      <td>9.66</td>\n",
              "      <td>1</td>\n",
              "      <td>0.95</td>\n",
              "      <td>True</td>\n",
              "    </tr>\n",
              "  </tbody>\n",
              "</table>\n",
              "<p>400 rows × 10 columns</p>\n",
              "</div>"
            ],
            "text/plain": [
              "     Serial No.  GRE Score  TOEFL Score  University Rating  SOP  LOR   CGPA  \\\n",
              "0             1        337          118                  4  4.5   4.5  9.65   \n",
              "1             2        324          107                  4  4.0   4.5  8.87   \n",
              "2             3        316          104                  3  3.0   3.5  8.00   \n",
              "3             4        322          110                  3  3.5   2.5  8.67   \n",
              "4             5        314          103                  2  2.0   3.0  8.21   \n",
              "..          ...        ...          ...                ...  ...   ...   ...   \n",
              "395         396        324          110                  3  3.5   3.5  9.04   \n",
              "396         397        325          107                  3  3.0   3.5  9.11   \n",
              "397         398        330          116                  4  5.0   4.5  9.45   \n",
              "398         399        312          103                  3  3.5   4.0  8.78   \n",
              "399         400        333          117                  4  5.0   4.0  9.66   \n",
              "\n",
              "     Research  Chance of Admit   Admit  \n",
              "0           1              0.92   True  \n",
              "1           1              0.76   True  \n",
              "2           1              0.72  False  \n",
              "3           1              0.80   True  \n",
              "4           0              0.65  False  \n",
              "..        ...               ...    ...  \n",
              "395         1              0.82   True  \n",
              "396         1              0.84   True  \n",
              "397         1              0.91   True  \n",
              "398         0              0.67  False  \n",
              "399         1              0.95   True  \n",
              "\n",
              "[400 rows x 10 columns]"
            ]
          },
          "execution_count": 124,
          "metadata": {},
          "output_type": "execute_result"
        }
      ],
      "source": [
        "df"
      ]
    },
    {
      "cell_type": "code",
      "execution_count": 125,
      "id": "0dc03cb3",
      "metadata": {
        "colab": {
          "base_uri": "https://localhost:8080/",
          "height": 283
        },
        "id": "0dc03cb3",
        "outputId": "b7ce2356-b450-4e57-a738-5ade2a691185"
      },
      "outputs": [
        {
          "data": {
            "text/plain": [
              "<matplotlib.collections.PathCollection at 0x7f824f06dcf0>"
            ]
          },
          "execution_count": 125,
          "metadata": {},
          "output_type": "execute_result"
        },
        {
          "data": {
            "image/png": "[encoded data removed]",
            "text/plain": [
              "<Figure size 640x480 with 1 Axes>"
            ]
          },
          "metadata": {},
          "output_type": "display_data"
        }
      ],
      "source": [
        "plt.scatter(df['GRE Score'],df['Chance of Admit '])\n",
        "plt.scatter(df['GRE Score'],df['Admit'])"
      ]
    },
    {
      "cell_type": "code",
      "execution_count": 126,
      "id": "5e6dccf6",
      "metadata": {
        "id": "5e6dccf6"
      },
      "outputs": [],
      "source": [
        "from sklearn.linear_model import LogisticRegression\n",
        "from sklearn.linear_model import LinearRegression"
      ]
    },
    {
      "cell_type": "raw",
      "id": "9ec0d3e4",
      "metadata": {
        "id": "9ec0d3e4"
      },
      "source": [
        "In the simple example below I have used only one column (GRE Score) as a feature, and Chance of Admit as the target output. "
      ]
    },
    {
      "cell_type": "code",
      "execution_count": 127,
      "id": "bef06416",
      "metadata": {
        "id": "bef06416"
      },
      "outputs": [],
      "source": [
        "X = df['GRE Score'].to_numpy()[:,np.newaxis]\n",
        "Y = df['Chance of Admit ']\n",
        "Y = Y.values.reshape(-1, 1)"
      ]
    },
    {
      "cell_type": "code",
      "execution_count": 128,
      "id": "3ac1b95f",
      "metadata": {
        "id": "3ac1b95f"
      },
      "outputs": [],
      "source": [
        "lr = LinearRegression()\n",
        "LR = LogisticRegression()"
      ]
    },
    {
      "cell_type": "code",
      "execution_count": 129,
      "id": "477a7e3c",
      "metadata": {
        "colab": {
          "base_uri": "https://localhost:8080/",
          "height": 75
        },
        "id": "477a7e3c",
        "outputId": "9e54527b-7bfc-49ec-9f7b-d9fe64c995ca"
      },
      "outputs": [
        {
          "data": {
            "text/html": [
              "<style>#sk-container-id-7 {color: black;background-color: white;}#sk-container-id-7 pre{padding: 0;}#sk-container-id-7 div.sk-toggleable {background-color: white;}#sk-container-id-7 label.sk-toggleable__label {cursor: pointer;display: block;width: 100%;margin-bottom: 0;padding: 0.3em;box-sizing: border-box;text-align: center;}#sk-container-id-7 label.sk-toggleable__label-arrow:before {content: \"▸\";float: left;margin-right: 0.25em;color: #696969;}#sk-container-id-7 label.sk-toggleable__label-arrow:hover:before {color: black;}#sk-container-id-7 div.sk-estimator:hover label.sk-toggleable__label-arrow:before {color: black;}#sk-container-id-7 div.sk-toggleable__content {max-height: 0;max-width: 0;overflow: hidden;text-align: left;background-color: #f0f8ff;}#sk-container-id-7 div.sk-toggleable__content pre {margin: 0.2em;color: black;border-radius: 0.25em;background-color: #f0f8ff;}#sk-container-id-7 input.sk-toggleable__control:checked~div.sk-toggleable__content {max-height: 200px;max-width: 100%;overflow: auto;}#sk-container-id-7 input.sk-toggleable__control:checked~label.sk-toggleable__label-arrow:before {content: \"▾\";}#sk-container-id-7 div.sk-estimator input.sk-toggleable__control:checked~label.sk-toggleable__label {background-color: #d4ebff;}#sk-container-id-7 div.sk-label input.sk-toggleable__control:checked~label.sk-toggleable__label {background-color: #d4ebff;}#sk-container-id-7 input.sk-hidden--visually {border: 0;clip: rect(1px 1px 1px 1px);clip: rect(1px, 1px, 1px, 1px);height: 1px;margin: -1px;overflow: hidden;padding: 0;position: absolute;width: 1px;}#sk-container-id-7 div.sk-estimator {font-family: monospace;background-color: #f0f8ff;border: 1px dotted black;border-radius: 0.25em;box-sizing: border-box;margin-bottom: 0.5em;}#sk-container-id-7 div.sk-estimator:hover {background-color: #d4ebff;}#sk-container-id-7 div.sk-parallel-item::after {content: \"\";width: 100%;border-bottom: 1px solid gray;flex-grow: 1;}#sk-container-id-7 div.sk-label:hover label.sk-toggleable__label {background-color: #d4ebff;}#sk-container-id-7 div.sk-serial::before {content: \"\";position: absolute;border-left: 1px solid gray;box-sizing: border-box;top: 0;bottom: 0;left: 50%;z-index: 0;}#sk-container-id-7 div.sk-serial {display: flex;flex-direction: column;align-items: center;background-color: white;padding-right: 0.2em;padding-left: 0.2em;position: relative;}#sk-container-id-7 div.sk-item {position: relative;z-index: 1;}#sk-container-id-7 div.sk-parallel {display: flex;align-items: stretch;justify-content: center;background-color: white;position: relative;}#sk-container-id-7 div.sk-item::before, #sk-container-id-7 div.sk-parallel-item::before {content: \"\";position: absolute;border-left: 1px solid gray;box-sizing: border-box;top: 0;bottom: 0;left: 50%;z-index: -1;}#sk-container-id-7 div.sk-parallel-item {display: flex;flex-direction: column;z-index: 1;position: relative;background-color: white;}#sk-container-id-7 div.sk-parallel-item:first-child::after {align-self: flex-end;width: 50%;}#sk-container-id-7 div.sk-parallel-item:last-child::after {align-self: flex-start;width: 50%;}#sk-container-id-7 div.sk-parallel-item:only-child::after {width: 0;}#sk-container-id-7 div.sk-dashed-wrapped {border: 1px dashed gray;margin: 0 0.4em 0.5em 0.4em;box-sizing: border-box;padding-bottom: 0.4em;background-color: white;}#sk-container-id-7 div.sk-label label {font-family: monospace;font-weight: bold;display: inline-block;line-height: 1.2em;}#sk-container-id-7 div.sk-label-container {text-align: center;}#sk-container-id-7 div.sk-container {/* jupyter's `normalize.less` sets `[hidden] { display: none; }` but bootstrap.min.css set `[hidden] { display: none !important; }` so we also need the `!important` here to be able to override the default hidden behavior on the sphinx rendered scikit-learn.org. See: https://github.com/scikit-learn/scikit-learn/issues/21755 */display: inline-block !important;position: relative;}#sk-container-id-7 div.sk-text-repr-fallback {display: none;}</style><div id=\"sk-container-id-7\" class=\"sk-top-container\"><div class=\"sk-text-repr-fallback\"><pre>LinearRegression()</pre><b>In a Jupyter environment, please rerun this cell to show the HTML representation or trust the notebook. <br />On GitHub, the HTML representation is unable to render, please try loading this page with nbviewer.org.</b></div><div class=\"sk-container\" hidden><div class=\"sk-item\"><div class=\"sk-estimator sk-toggleable\"><input class=\"sk-toggleable__control sk-hidden--visually\" id=\"sk-estimator-id-7\" type=\"checkbox\" checked><label for=\"sk-estimator-id-7\" class=\"sk-toggleable__label sk-toggleable__label-arrow\">LinearRegression</label><div class=\"sk-toggleable__content\"><pre>LinearRegression()</pre></div></div></div></div></div>"
            ],
            "text/plain": [
              "LinearRegression()"
            ]
          },
          "execution_count": 129,
          "metadata": {},
          "output_type": "execute_result"
        }
      ],
      "source": [
        "lr.fit(X,Y)"
      ]
    },
    {
      "cell_type": "code",
      "execution_count": 130,
      "id": "88bad0e5",
      "metadata": {
        "colab": {
          "base_uri": "https://localhost:8080/",
          "height": 287
        },
        "id": "88bad0e5",
        "outputId": "60818886-e6b5-4d06-b2f8-7904d47ebfa4"
      },
      "outputs": [
        {
          "data": {
            "text/plain": [
              "[<matplotlib.lines.Line2D at 0x7f824eed6f80>]"
            ]
          },
          "execution_count": 130,
          "metadata": {},
          "output_type": "execute_result"
        },
        {
          "data": {
            "image/png": "[encoded data removed]",
            "text/plain": [
              "<Figure size 640x480 with 1 Axes>"
            ]
          },
          "metadata": {},
          "output_type": "display_data"
        }
      ],
      "source": [
        "# This plot shows the nice linear regression fit between GRE score and Chance of admit\n",
        "\n",
        "plt.plot(X,Y,'.')\n",
        "plt.plot(X,lr.predict(X),'.')"
      ]
    },
    {
      "cell_type": "code",
      "execution_count": 131,
      "id": "4cb4a752",
      "metadata": {
        "id": "4cb4a752"
      },
      "outputs": [],
      "source": [
        "#Instead of using linear regression now do logistic regression on target output classes of Admit\n",
        "Y = df['Admit']\n",
        "Y = Y.values"
      ]
    },
    {
      "cell_type": "code",
      "execution_count": 132,
      "id": "7cb9a31b",
      "metadata": {
        "colab": {
          "base_uri": "https://localhost:8080/"
        },
        "id": "7cb9a31b",
        "outputId": "cdd8c319-cc06-464e-efec-cbdcb8dcf3fa"
      },
      "outputs": [
        {
          "data": {
            "text/plain": [
              "(400,)"
            ]
          },
          "execution_count": 132,
          "metadata": {},
          "output_type": "execute_result"
        }
      ],
      "source": [
        "Y.shape"
      ]
    },
    {
      "cell_type": "code",
      "execution_count": 133,
      "id": "b9854f91",
      "metadata": {
        "colab": {
          "base_uri": "https://localhost:8080/",
          "height": 75
        },
        "id": "b9854f91",
        "outputId": "10842169-a49e-4baf-fa88-ec77cf1fad2d"
      },
      "outputs": [
        {
          "data": {
            "text/html": [
              "<style>#sk-container-id-8 {color: black;background-color: white;}#sk-container-id-8 pre{padding: 0;}#sk-container-id-8 div.sk-toggleable {background-color: white;}#sk-container-id-8 label.sk-toggleable__label {cursor: pointer;display: block;width: 100%;margin-bottom: 0;padding: 0.3em;box-sizing: border-box;text-align: center;}#sk-container-id-8 label.sk-toggleable__label-arrow:before {content: \"▸\";float: left;margin-right: 0.25em;color: #696969;}#sk-container-id-8 label.sk-toggleable__label-arrow:hover:before {color: black;}#sk-container-id-8 div.sk-estimator:hover label.sk-toggleable__label-arrow:before {color: black;}#sk-container-id-8 div.sk-toggleable__content {max-height: 0;max-width: 0;overflow: hidden;text-align: left;background-color: #f0f8ff;}#sk-container-id-8 div.sk-toggleable__content pre {margin: 0.2em;color: black;border-radius: 0.25em;background-color: #f0f8ff;}#sk-container-id-8 input.sk-toggleable__control:checked~div.sk-toggleable__content {max-height: 200px;max-width: 100%;overflow: auto;}#sk-container-id-8 input.sk-toggleable__control:checked~label.sk-toggleable__label-arrow:before {content: \"▾\";}#sk-container-id-8 div.sk-estimator input.sk-toggleable__control:checked~label.sk-toggleable__label {background-color: #d4ebff;}#sk-container-id-8 div.sk-label input.sk-toggleable__control:checked~label.sk-toggleable__label {background-color: #d4ebff;}#sk-container-id-8 input.sk-hidden--visually {border: 0;clip: rect(1px 1px 1px 1px);clip: rect(1px, 1px, 1px, 1px);height: 1px;margin: -1px;overflow: hidden;padding: 0;position: absolute;width: 1px;}#sk-container-id-8 div.sk-estimator {font-family: monospace;background-color: #f0f8ff;border: 1px dotted black;border-radius: 0.25em;box-sizing: border-box;margin-bottom: 0.5em;}#sk-container-id-8 div.sk-estimator:hover {background-color: #d4ebff;}#sk-container-id-8 div.sk-parallel-item::after {content: \"\";width: 100%;border-bottom: 1px solid gray;flex-grow: 1;}#sk-container-id-8 div.sk-label:hover label.sk-toggleable__label {background-color: #d4ebff;}#sk-container-id-8 div.sk-serial::before {content: \"\";position: absolute;border-left: 1px solid gray;box-sizing: border-box;top: 0;bottom: 0;left: 50%;z-index: 0;}#sk-container-id-8 div.sk-serial {display: flex;flex-direction: column;align-items: center;background-color: white;padding-right: 0.2em;padding-left: 0.2em;position: relative;}#sk-container-id-8 div.sk-item {position: relative;z-index: 1;}#sk-container-id-8 div.sk-parallel {display: flex;align-items: stretch;justify-content: center;background-color: white;position: relative;}#sk-container-id-8 div.sk-item::before, #sk-container-id-8 div.sk-parallel-item::before {content: \"\";position: absolute;border-left: 1px solid gray;box-sizing: border-box;top: 0;bottom: 0;left: 50%;z-index: -1;}#sk-container-id-8 div.sk-parallel-item {display: flex;flex-direction: column;z-index: 1;position: relative;background-color: white;}#sk-container-id-8 div.sk-parallel-item:first-child::after {align-self: flex-end;width: 50%;}#sk-container-id-8 div.sk-parallel-item:last-child::after {align-self: flex-start;width: 50%;}#sk-container-id-8 div.sk-parallel-item:only-child::after {width: 0;}#sk-container-id-8 div.sk-dashed-wrapped {border: 1px dashed gray;margin: 0 0.4em 0.5em 0.4em;box-sizing: border-box;padding-bottom: 0.4em;background-color: white;}#sk-container-id-8 div.sk-label label {font-family: monospace;font-weight: bold;display: inline-block;line-height: 1.2em;}#sk-container-id-8 div.sk-label-container {text-align: center;}#sk-container-id-8 div.sk-container {/* jupyter's `normalize.less` sets `[hidden] { display: none; }` but bootstrap.min.css set `[hidden] { display: none !important; }` so we also need the `!important` here to be able to override the default hidden behavior on the sphinx rendered scikit-learn.org. See: https://github.com/scikit-learn/scikit-learn/issues/21755 */display: inline-block !important;position: relative;}#sk-container-id-8 div.sk-text-repr-fallback {display: none;}</style><div id=\"sk-container-id-8\" class=\"sk-top-container\"><div class=\"sk-text-repr-fallback\"><pre>LogisticRegression()</pre><b>In a Jupyter environment, please rerun this cell to show the HTML representation or trust the notebook. <br />On GitHub, the HTML representation is unable to render, please try loading this page with nbviewer.org.</b></div><div class=\"sk-container\" hidden><div class=\"sk-item\"><div class=\"sk-estimator sk-toggleable\"><input class=\"sk-toggleable__control sk-hidden--visually\" id=\"sk-estimator-id-8\" type=\"checkbox\" checked><label for=\"sk-estimator-id-8\" class=\"sk-toggleable__label sk-toggleable__label-arrow\">LogisticRegression</label><div class=\"sk-toggleable__content\"><pre>LogisticRegression()</pre></div></div></div></div></div>"
            ],
            "text/plain": [
              "LogisticRegression()"
            ]
          },
          "execution_count": 133,
          "metadata": {},
          "output_type": "execute_result"
        }
      ],
      "source": [
        "LR.fit(X,Y)"
      ]
    },
    {
      "cell_type": "code",
      "execution_count": 134,
      "id": "7d949fa9",
      "metadata": {
        "colab": {
          "base_uri": "https://localhost:8080/",
          "height": 283
        },
        "id": "7d949fa9",
        "outputId": "3a5b92de-ba70-4199-9c0b-0fc143c9ec37"
      },
      "outputs": [
        {
          "data": {
            "text/plain": [
              "[<matplotlib.lines.Line2D at 0x7f824ef64b50>]"
            ]
          },
          "execution_count": 134,
          "metadata": {},
          "output_type": "execute_result"
        },
        {
          "data": {
            "image/png": "[encoded data removed]",
            "text/plain": [
              "<Figure size 640x480 with 1 Axes>"
            ]
          },
          "metadata": {},
          "output_type": "display_data"
        }
      ],
      "source": [
        "# this is the Logistic Regression prediction (along with ground truth)\n",
        "plt.plot(X,Y,'.')\n",
        "plt.plot(X,LR.predict(X),'.')"
      ]
    },
    {
      "cell_type": "code",
      "execution_count": 135,
      "id": "1022b1be",
      "metadata": {
        "colab": {
          "base_uri": "https://localhost:8080/"
        },
        "id": "1022b1be",
        "outputId": "4bb9a1fd-3360-4f3a-833e-6226f68b3211"
      },
      "outputs": [
        {
          "data": {
            "text/plain": [
              "Index(['Serial No.', 'GRE Score', 'TOEFL Score', 'University Rating', 'SOP',\n",
              "       'LOR ', 'CGPA', 'Research', 'Chance of Admit ', 'Admit'],\n",
              "      dtype='object')"
            ]
          },
          "execution_count": 135,
          "metadata": {},
          "output_type": "execute_result"
        }
      ],
      "source": [
        "df.keys()"
      ]
    },
    {
      "cell_type": "markdown",
      "id": "21b7a6ed",
      "metadata": {
        "id": "21b7a6ed"
      },
      "source": [
        "### Q1\n",
        "``` A. Use 4 features from above to set up your data matrix X. These 4 features should in your opinion best predict Admit decision (4 pts)\n",
        "B. Split X, Y into train, val, test (2 pts) \n",
        "C. Scale and Augment X appropriately (4 pts)```"
      ]
    },
    {
      "cell_type": "code",
      "execution_count": 136,
      "id": "U5evpaLtHw30",
      "metadata": {
        "colab": {
          "base_uri": "https://localhost:8080/",
          "height": 283
        },
        "id": "U5evpaLtHw30",
        "outputId": "57b1ca1d-0b49-4ed7-aef7-10b48fc00224"
      },
      "outputs": [
        {
          "data": {
            "text/plain": [
              "[<matplotlib.lines.Line2D at 0x7f824edd5720>]"
            ]
          },
          "execution_count": 136,
          "metadata": {},
          "output_type": "execute_result"
        },
        {
          "data": {
            "image/png": "[encoded data removed]",
            "text/plain": [
              "<Figure size 640x480 with 1 Axes>"
            ]
          },
          "metadata": {},
          "output_type": "display_data"
        }
      ],
      "source": [
        "\n",
        "plt.plot(X,Y,'.')\n",
        "plt.plot(X,lr.predict(X),'.')"
      ]
    },
    {
      "cell_type": "code",
      "execution_count": 137,
      "id": "DLnsKzWeGTRI",
      "metadata": {
        "colab": {
          "base_uri": "https://localhost:8080/",
          "height": 283
        },
        "id": "DLnsKzWeGTRI",
        "outputId": "56c5a5fb-ffa2-476b-bf2c-4afab1a47ef4"
      },
      "outputs": [
        {
          "data": {
            "text/plain": [
              "[<matplotlib.lines.Line2D at 0x7f824ee509a0>]"
            ]
          },
          "execution_count": 137,
          "metadata": {},
          "output_type": "execute_result"
        },
        {
          "data": {
            "image/png": "[encoded data removed]",
            "text/plain": [
              "<Figure size 640x480 with 1 Axes>"
            ]
          },
          "metadata": {},
          "output_type": "display_data"
        }
      ],
      "source": [
        "\n",
        "X1 = df['GRE Score'].to_numpy()[:,np.newaxis]\n",
        "lr.fit(X1,Y)\n",
        "plt.plot(X1,Y,'.')\n",
        "plt.plot(X1,lr.predict(X1),'.')"
      ]
    },
    {
      "cell_type": "code",
      "execution_count": 138,
      "id": "Ry6iemL0H-qO",
      "metadata": {
        "colab": {
          "base_uri": "https://localhost:8080/",
          "height": 283
        },
        "id": "Ry6iemL0H-qO",
        "outputId": "17f8a33d-823b-4134-ee60-f649d2a78112"
      },
      "outputs": [
        {
          "data": {
            "text/plain": [
              "[<matplotlib.lines.Line2D at 0x7f824eccd6c0>]"
            ]
          },
          "execution_count": 138,
          "metadata": {},
          "output_type": "execute_result"
        },
        {
          "data": {
            "image/png": "[encoded data removed]",
            "text/plain": [
              "<Figure size 640x480 with 1 Axes>"
            ]
          },
          "metadata": {},
          "output_type": "display_data"
        }
      ],
      "source": [
        "X2 = df['TOEFL Score'].to_numpy()[:,np.newaxis]\n",
        "lr.fit(X2,Y)\n",
        "plt.plot(X2,Y,'.')\n",
        "plt.plot(X2,lr.predict(X2),'.')"
      ]
    },
    {
      "cell_type": "code",
      "execution_count": 139,
      "id": "w3nvSpl2IZuR",
      "metadata": {
        "colab": {
          "base_uri": "https://localhost:8080/",
          "height": 283
        },
        "id": "w3nvSpl2IZuR",
        "outputId": "969bc9f3-aef3-4565-8d5e-a003c572f7b3"
      },
      "outputs": [
        {
          "data": {
            "text/plain": [
              "[<matplotlib.lines.Line2D at 0x7f824ed49b40>]"
            ]
          },
          "execution_count": 139,
          "metadata": {},
          "output_type": "execute_result"
        },
        {
          "data": {
            "image/png": "[encoded data removed]",
            "text/plain": [
              "<Figure size 640x480 with 1 Axes>"
            ]
          },
          "metadata": {},
          "output_type": "display_data"
        }
      ],
      "source": [
        "X3 = df['University Rating'].to_numpy()[:,np.newaxis]\n",
        "lr.fit(X3,Y)\n",
        "plt.plot(X3,Y,'.')\n",
        "plt.plot(X3,lr.predict(X3),'.')"
      ]
    },
    {
      "cell_type": "code",
      "execution_count": 140,
      "id": "glv5grVtIj2u",
      "metadata": {
        "colab": {
          "base_uri": "https://localhost:8080/",
          "height": 283
        },
        "id": "glv5grVtIj2u",
        "outputId": "ae34c573-96c1-4e7c-bdcd-686af539da87"
      },
      "outputs": [
        {
          "data": {
            "text/plain": [
              "[<matplotlib.lines.Line2D at 0x7f824ebc28c0>]"
            ]
          },
          "execution_count": 140,
          "metadata": {},
          "output_type": "execute_result"
        },
        {
          "data": {
            "image/png": "[encoded data removed]",
            "text/plain": [
              "<Figure size 640x480 with 1 Axes>"
            ]
          },
          "metadata": {},
          "output_type": "display_data"
        }
      ],
      "source": [
        "\n",
        "X4 = df['SOP'].to_numpy()[:,np.newaxis]\n",
        "lr.fit(X4,Y)\n",
        "plt.plot(X4,Y,'.')\n",
        "plt.plot(X4,lr.predict(X4),'.')"
      ]
    },
    {
      "cell_type": "code",
      "execution_count": 141,
      "id": "ZWssH4TbIrPg",
      "metadata": {
        "colab": {
          "base_uri": "https://localhost:8080/",
          "height": 283
        },
        "id": "ZWssH4TbIrPg",
        "outputId": "0105abeb-cced-4b16-fe1d-b15d5c064499"
      },
      "outputs": [
        {
          "data": {
            "text/plain": [
              "[<matplotlib.lines.Line2D at 0x7f824ec3f340>]"
            ]
          },
          "execution_count": 141,
          "metadata": {},
          "output_type": "execute_result"
        },
        {
          "data": {
            "image/png": "[encoded data removed]",
            "text/plain": [
              "<Figure size 640x480 with 1 Axes>"
            ]
          },
          "metadata": {},
          "output_type": "display_data"
        }
      ],
      "source": [
        "X5 = df['LOR '].to_numpy()[:,np.newaxis]\n",
        "lr.fit(X5,Y)\n",
        "plt.plot(X5,Y,'.')\n",
        "plt.plot(X5,lr.predict(X5),'.')"
      ]
    },
    {
      "cell_type": "code",
      "execution_count": 142,
      "id": "q7UA-v9HI8Wv",
      "metadata": {
        "colab": {
          "base_uri": "https://localhost:8080/",
          "height": 283
        },
        "id": "q7UA-v9HI8Wv",
        "outputId": "cdc24cda-4caf-49e5-cb83-6c1b559016ef"
      },
      "outputs": [
        {
          "data": {
            "text/plain": [
              "[<matplotlib.lines.Line2D at 0x7f824eaf0610>]"
            ]
          },
          "execution_count": 142,
          "metadata": {},
          "output_type": "execute_result"
        },
        {
          "data": {
            "image/png": "[encoded data removed]",
            "text/plain": [
              "<Figure size 640x480 with 1 Axes>"
            ]
          },
          "metadata": {},
          "output_type": "display_data"
        }
      ],
      "source": [
        "X6 = df['CGPA'].to_numpy()[:,np.newaxis]\n",
        "lr.fit(X6,Y)\n",
        "plt.plot(X6,Y,'.')\n",
        "plt.plot(X6,lr.predict(X6),'.')"
      ]
    },
    {
      "cell_type": "code",
      "execution_count": 143,
      "id": "SelpIxMmJjHv",
      "metadata": {
        "colab": {
          "base_uri": "https://localhost:8080/",
          "height": 283
        },
        "id": "SelpIxMmJjHv",
        "outputId": "b5c35035-3d33-4f0f-b6ac-4b472fd159a6"
      },
      "outputs": [
        {
          "data": {
            "text/plain": [
              "[<matplotlib.lines.Line2D at 0x7f824eb64df0>]"
            ]
          },
          "execution_count": 143,
          "metadata": {},
          "output_type": "execute_result"
        },
        {
          "data": {
            "image/png": "[encoded data removed]",
            "text/plain": [
              "<Figure size 640x480 with 1 Axes>"
            ]
          },
          "metadata": {},
          "output_type": "display_data"
        }
      ],
      "source": [
        "X7 = df['Research'].to_numpy()[:,np.newaxis]\n",
        "lr.fit(X7,Y)\n",
        "plt.plot(X7,Y,'.')\n",
        "plt.plot(X7,lr.predict(X7),'.')"
      ]
    },
    {
      "cell_type": "code",
      "execution_count": 144,
      "id": "QH7A6Ys0J9IU",
      "metadata": {
        "id": "QH7A6Ys0J9IU"
      },
      "outputs": [],
      "source": [
        "X = df.filter(['GRE Score', 'TOEFL Score', 'CGPA',\n",
        "                  'SOP'], axis = 1)\n",
        "\n",
        "def train_val_test_split(X, Y):\n",
        "    p = np.random.permutation(len(Y))\n",
        "    tr = np.floor(len(Y)*0.7).astype('int')\n",
        "    te = np.floor(len(Y)*0.8).astype('int')\n",
        "    X_train = X[p[:tr],:]\n",
        "    Y_train = Y[p[:tr]]\n",
        "    X_val = X[p[tr+1:te],:]\n",
        "    Y_val = Y[p[tr+1:te]]\n",
        "    X_test = X[p[te+1:],:]\n",
        "    Y_test = Y[p[te+1:]]\n",
        "    return X_train, Y_train, X_val, Y_val, X_test, Y_test "
      ]
    },
    {
      "cell_type": "code",
      "execution_count": 145,
      "id": "_jSGA5NyLCCA",
      "metadata": {
        "id": "_jSGA5NyLCCA"
      },
      "outputs": [],
      "source": [
        "X_train, Y_train, X_val, Y_val, X_test, Y_test = train_val_test_split(X.to_numpy(),Y)"
      ]
    },
    {
      "cell_type": "code",
      "execution_count": 146,
      "id": "hTiuPB6KYpkx",
      "metadata": {
        "id": "hTiuPB6KYpkx"
      },
      "outputs": [],
      "source": [
        "from sklearn.preprocessing import StandardScaler\n",
        "scaler = StandardScaler()\n",
        "X_train = scaler.fit_transform(X_train)\n",
        "X_val = scaler.transform(X_val)\n",
        "X_test = scaler.transform(X_test)\n",
        "\n",
        "# add a column of ones to X for the bias term\n",
        "X_aug_train = np.hstack([np.ones((X_train.shape[0], 1)), X_train])\n",
        "X_aug_val = np.hstack([np.ones((X_val.shape[0], 1)), X_val])\n",
        "X_aug_test = np.hstack([np.ones((X_test.shape[0], 1)), X_test])"
      ]
    },
    {
      "cell_type": "code",
      "execution_count": 147,
      "id": "l4Wt1OtvLFUn",
      "metadata": {
        "colab": {
          "base_uri": "https://localhost:8080/"
        },
        "id": "l4Wt1OtvLFUn",
        "outputId": "be965fd5-532a-4591-d700-197c1dcde862"
      },
      "outputs": [
        {
          "name": "stdout",
          "output_type": "stream",
          "text": [
            "280 280 39 39 79 79\n"
          ]
        }
      ],
      "source": [
        "print(len(X_train), len(Y_train), len(X_val), len(Y_val), len(X_test), len(Y_test))"
      ]
    },
    {
      "cell_type": "code",
      "execution_count": 148,
      "id": "WJGk8dYhdp6v",
      "metadata": {
        "colab": {
          "base_uri": "https://localhost:8080/"
        },
        "id": "WJGk8dYhdp6v",
        "outputId": "b2f5cfdf-65eb-41c9-ed64-e3bc9d5eb8b3"
      },
      "outputs": [
        {
          "data": {
            "text/plain": [
              "(39, 4)"
            ]
          },
          "execution_count": 148,
          "metadata": {},
          "output_type": "execute_result"
        }
      ],
      "source": [
        "X_val.shape"
      ]
    },
    {
      "cell_type": "code",
      "execution_count": 149,
      "id": "bd269f2d",
      "metadata": {
        "id": "bd269f2d"
      },
      "outputs": [],
      "source": [
        "def sigmoid(x):\n",
        "    return 1/(1+np.exp(-x))\n",
        "\n",
        "def compute_cross_entropy_loss(X, y, theta):\n",
        "    m = len(y)\n",
        "    h = sigmoid(X @ theta)\n",
        "    epsilon = 1e-5\n",
        "    cost = (1/m)*(((~y).T @ np.log(h + epsilon))-((1-y).T @ np.log(1-h + epsilon)))\n",
        "    return cost\n",
        "\n",
        "def predict(X, params):\n",
        "    return np.round(sigmoid(X @ params))\n",
        "\n",
        "\n",
        "\n"
      ]
    },
    {
      "cell_type": "code",
      "execution_count": 150,
      "id": "ICe6LZyZHCrn",
      "metadata": {
        "colab": {
          "base_uri": "https://localhost:8080/"
        },
        "id": "ICe6LZyZHCrn",
        "outputId": "751615c7-61da-4e48-b7e7-8ac8ebbc2f01"
      },
      "outputs": [
        {
          "data": {
            "text/plain": [
              "(39,)"
            ]
          },
          "execution_count": 150,
          "metadata": {},
          "output_type": "execute_result"
        }
      ],
      "source": [
        "random_predictions = np.round(np.random.rand(*Y_val.shape))\n",
        "random_predictions.shape"
      ]
    },
    {
      "cell_type": "code",
      "execution_count": 151,
      "id": "_syWgN1pHKZf",
      "metadata": {
        "colab": {
          "base_uri": "https://localhost:8080/"
        },
        "id": "_syWgN1pHKZf",
        "outputId": "8daf6a66-d815-48b2-bb3a-29d412335f91"
      },
      "outputs": [
        {
          "data": {
            "text/plain": [
              "(39,)"
            ]
          },
          "execution_count": 151,
          "metadata": {},
          "output_type": "execute_result"
        }
      ],
      "source": [
        "Y_val.shape "
      ]
    },
    {
      "cell_type": "code",
      "execution_count": 152,
      "id": "ZyA1pX-rHN0j",
      "metadata": {
        "colab": {
          "base_uri": "https://localhost:8080/"
        },
        "id": "ZyA1pX-rHN0j",
        "outputId": "fad7343b-616b-4356-9f57-27cb2f37c613"
      },
      "outputs": [
        {
          "data": {
            "text/plain": [
              "(39, 4)"
            ]
          },
          "execution_count": 152,
          "metadata": {},
          "output_type": "execute_result"
        }
      ],
      "source": [
        "X_val.shape"
      ]
    },
    {
      "cell_type": "markdown",
      "id": "e0de8a2e",
      "metadata": {
        "id": "e0de8a2e"
      },
      "source": [
        "### Q2\n",
        "``` Report cross entropy loss for a random prediction of Y_val and for predictions from LR.predict(X_val) (5 pts)```"
      ]
    },
    {
      "cell_type": "code",
      "execution_count": 153,
      "id": "revYFmZtWwDS",
      "metadata": {
        "colab": {
          "base_uri": "https://localhost:8080/"
        },
        "id": "revYFmZtWwDS",
        "outputId": "5d8569e5-7446-4f30-d68c-0a5f1f26510c"
      },
      "outputs": [
        {
          "name": "stdout",
          "output_type": "stream",
          "text": [
            "1.033697332463802\n"
          ]
        }
      ],
      "source": [
        "np.random.seed(42)  # for reproducibility\n",
        "n = len(Y_val)\n",
        "k = np.unique(Y_val).size\n",
        "random_pred = np.random.rand(n, k)\n",
        "random_pred /= random_pred.sum(axis=1, keepdims=True)\n",
        "\n",
        "onehot_Y_val = np.zeros((n, k))\n",
        "onehot_Y_val[np.arange(n), np.clip(Y_val, 0, k-1)] = 1\n",
        "\n",
        "random_ce_loss = -(onehot_Y_val * np.log(random_pred)).sum() / n\n",
        "print(random_ce_loss)"
      ]
    },
    {
      "cell_type": "code",
      "execution_count": 154,
      "id": "fa2daec4",
      "metadata": {
        "id": "fa2daec4"
      },
      "outputs": [],
      "source": [
        "def sigmoid(x):\n",
        "    return 1/(1+np.exp(-x))"
      ]
    },
    {
      "cell_type": "code",
      "execution_count": 155,
      "id": "f6e13a2e",
      "metadata": {
        "id": "f6e13a2e"
      },
      "outputs": [],
      "source": [
        "def init(X,zeros=True):\n",
        "    n = X.shape[1]\n",
        "    if zeros:\n",
        "        theta = np.zeros((n,1))\n",
        "    else:\n",
        "        theta = np.random.rand(n,1)-0.5\n",
        "        theta[-1] = 0\n",
        "    return theta"
      ]
    },
    {
      "cell_type": "code",
      "execution_count": 156,
      "id": "05c2be80",
      "metadata": {
        "id": "05c2be80"
      },
      "outputs": [],
      "source": [
        "# This is batch gradient descent that updates using all training samples\n",
        "def update_weights( X, Y,  theta ) :\n",
        "             \n",
        "        # Y_pred = predict(X, theta)  \n",
        "        # calculate gradients  \n",
        "        m = X.shape[0]\n",
        "        dtheta = - ( 2 * ( X.T ).dot( Y - sigmoid(np.matmul(X,theta)) )  ) / m\n",
        "        cost_history = compute_cross_entropy_loss(X, Y, dtheta)  \n",
        "        return dtheta,cost_history"
      ]
    },
    {
      "cell_type": "code",
      "execution_count": 157,
      "id": "SssH8ksuKinl",
      "metadata": {
        "id": "SssH8ksuKinl"
      },
      "outputs": [],
      "source": [
        "theta = init(X_val)\n",
        "dtheta, cost_h = update_weights(X_val, Y_val, theta)\n"
      ]
    },
    {
      "cell_type": "code",
      "execution_count": 158,
      "id": "UpB5yAJRKp0U",
      "metadata": {
        "colab": {
          "base_uri": "https://localhost:8080/"
        },
        "id": "UpB5yAJRKp0U",
        "outputId": "89b2b5b8-5cec-4038-d038-b6fa0f04a99f"
      },
      "outputs": [
        {
          "data": {
            "text/plain": [
              "array([ 0.02635155, -0.02635155,  0.02635155,  0.02635155, -0.02635155,\n",
              "       -0.02635155, -0.02635155, -0.02635155, -0.02635155,  0.02635155,\n",
              "        0.02635155, -0.02635155,  0.02635155,  0.02635155,  0.02635155,\n",
              "       -0.02635155, -0.02635155, -0.02635155,  0.02635155, -0.02635155,\n",
              "        0.02635155, -0.02635155, -0.02635155,  0.02635155, -0.02635155,\n",
              "        0.02635155, -0.02635155, -0.02635155,  0.02635155,  0.02635155,\n",
              "        0.02635155, -0.02635155,  0.02635155,  0.02635155,  0.02635155,\n",
              "       -0.02635155,  0.02635155,  0.02635155,  0.02635155])"
            ]
          },
          "execution_count": 158,
          "metadata": {},
          "output_type": "execute_result"
        }
      ],
      "source": [
        "cost_h"
      ]
    },
    {
      "cell_type": "code",
      "execution_count": 159,
      "id": "g9kBUevdLPLZ",
      "metadata": {
        "colab": {
          "base_uri": "https://localhost:8080/",
          "height": 75
        },
        "id": "g9kBUevdLPLZ",
        "outputId": "7f154418-055d-4e0b-90ed-971beadaa0f4"
      },
      "outputs": [
        {
          "data": {
            "text/html": [
              "<style>#sk-container-id-9 {color: black;background-color: white;}#sk-container-id-9 pre{padding: 0;}#sk-container-id-9 div.sk-toggleable {background-color: white;}#sk-container-id-9 label.sk-toggleable__label {cursor: pointer;display: block;width: 100%;margin-bottom: 0;padding: 0.3em;box-sizing: border-box;text-align: center;}#sk-container-id-9 label.sk-toggleable__label-arrow:before {content: \"▸\";float: left;margin-right: 0.25em;color: #696969;}#sk-container-id-9 label.sk-toggleable__label-arrow:hover:before {color: black;}#sk-container-id-9 div.sk-estimator:hover label.sk-toggleable__label-arrow:before {color: black;}#sk-container-id-9 div.sk-toggleable__content {max-height: 0;max-width: 0;overflow: hidden;text-align: left;background-color: #f0f8ff;}#sk-container-id-9 div.sk-toggleable__content pre {margin: 0.2em;color: black;border-radius: 0.25em;background-color: #f0f8ff;}#sk-container-id-9 input.sk-toggleable__control:checked~div.sk-toggleable__content {max-height: 200px;max-width: 100%;overflow: auto;}#sk-container-id-9 input.sk-toggleable__control:checked~label.sk-toggleable__label-arrow:before {content: \"▾\";}#sk-container-id-9 div.sk-estimator input.sk-toggleable__control:checked~label.sk-toggleable__label {background-color: #d4ebff;}#sk-container-id-9 div.sk-label input.sk-toggleable__control:checked~label.sk-toggleable__label {background-color: #d4ebff;}#sk-container-id-9 input.sk-hidden--visually {border: 0;clip: rect(1px 1px 1px 1px);clip: rect(1px, 1px, 1px, 1px);height: 1px;margin: -1px;overflow: hidden;padding: 0;position: absolute;width: 1px;}#sk-container-id-9 div.sk-estimator {font-family: monospace;background-color: #f0f8ff;border: 1px dotted black;border-radius: 0.25em;box-sizing: border-box;margin-bottom: 0.5em;}#sk-container-id-9 div.sk-estimator:hover {background-color: #d4ebff;}#sk-container-id-9 div.sk-parallel-item::after {content: \"\";width: 100%;border-bottom: 1px solid gray;flex-grow: 1;}#sk-container-id-9 div.sk-label:hover label.sk-toggleable__label {background-color: #d4ebff;}#sk-container-id-9 div.sk-serial::before {content: \"\";position: absolute;border-left: 1px solid gray;box-sizing: border-box;top: 0;bottom: 0;left: 50%;z-index: 0;}#sk-container-id-9 div.sk-serial {display: flex;flex-direction: column;align-items: center;background-color: white;padding-right: 0.2em;padding-left: 0.2em;position: relative;}#sk-container-id-9 div.sk-item {position: relative;z-index: 1;}#sk-container-id-9 div.sk-parallel {display: flex;align-items: stretch;justify-content: center;background-color: white;position: relative;}#sk-container-id-9 div.sk-item::before, #sk-container-id-9 div.sk-parallel-item::before {content: \"\";position: absolute;border-left: 1px solid gray;box-sizing: border-box;top: 0;bottom: 0;left: 50%;z-index: -1;}#sk-container-id-9 div.sk-parallel-item {display: flex;flex-direction: column;z-index: 1;position: relative;background-color: white;}#sk-container-id-9 div.sk-parallel-item:first-child::after {align-self: flex-end;width: 50%;}#sk-container-id-9 div.sk-parallel-item:last-child::after {align-self: flex-start;width: 50%;}#sk-container-id-9 div.sk-parallel-item:only-child::after {width: 0;}#sk-container-id-9 div.sk-dashed-wrapped {border: 1px dashed gray;margin: 0 0.4em 0.5em 0.4em;box-sizing: border-box;padding-bottom: 0.4em;background-color: white;}#sk-container-id-9 div.sk-label label {font-family: monospace;font-weight: bold;display: inline-block;line-height: 1.2em;}#sk-container-id-9 div.sk-label-container {text-align: center;}#sk-container-id-9 div.sk-container {/* jupyter's `normalize.less` sets `[hidden] { display: none; }` but bootstrap.min.css set `[hidden] { display: none !important; }` so we also need the `!important` here to be able to override the default hidden behavior on the sphinx rendered scikit-learn.org. See: https://github.com/scikit-learn/scikit-learn/issues/21755 */display: inline-block !important;position: relative;}#sk-container-id-9 div.sk-text-repr-fallback {display: none;}</style><div id=\"sk-container-id-9\" class=\"sk-top-container\"><div class=\"sk-text-repr-fallback\"><pre>LogisticRegression()</pre><b>In a Jupyter environment, please rerun this cell to show the HTML representation or trust the notebook. <br />On GitHub, the HTML representation is unable to render, please try loading this page with nbviewer.org.</b></div><div class=\"sk-container\" hidden><div class=\"sk-item\"><div class=\"sk-estimator sk-toggleable\"><input class=\"sk-toggleable__control sk-hidden--visually\" id=\"sk-estimator-id-9\" type=\"checkbox\" checked><label for=\"sk-estimator-id-9\" class=\"sk-toggleable__label sk-toggleable__label-arrow\">LogisticRegression</label><div class=\"sk-toggleable__content\"><pre>LogisticRegression()</pre></div></div></div></div></div>"
            ],
            "text/plain": [
              "LogisticRegression()"
            ]
          },
          "execution_count": 159,
          "metadata": {},
          "output_type": "execute_result"
        }
      ],
      "source": [
        "LR = LogisticRegression()\n",
        "LR.fit(X_train, Y_train)"
      ]
    },
    {
      "cell_type": "code",
      "execution_count": 160,
      "id": "qRqgeD2yNHpi",
      "metadata": {
        "id": "qRqgeD2yNHpi"
      },
      "outputs": [],
      "source": [
        "y_pred = LR.predict(X_val)"
      ]
    },
    {
      "cell_type": "code",
      "execution_count": 161,
      "id": "FW2PJrNmPe_3",
      "metadata": {
        "colab": {
          "base_uri": "https://localhost:8080/"
        },
        "id": "FW2PJrNmPe_3",
        "outputId": "4eb29cb5-c592-47fe-d28e-789e8b3f0534"
      },
      "outputs": [
        {
          "data": {
            "text/plain": [
              "array([False,  True, False, False,  True,  True,  True,  True, False,\n",
              "       False, False,  True, False, False, False, False,  True,  True,\n",
              "       False,  True, False,  True,  True, False,  True, False,  True,\n",
              "        True, False, False, False,  True, False,  True, False,  True,\n",
              "       False, False, False])"
            ]
          },
          "execution_count": 161,
          "metadata": {},
          "output_type": "execute_result"
        }
      ],
      "source": [
        "y_pred"
      ]
    },
    {
      "cell_type": "code",
      "execution_count": 162,
      "id": "2GaCBO3kNTNF",
      "metadata": {
        "colab": {
          "base_uri": "https://localhost:8080/"
        },
        "id": "2GaCBO3kNTNF",
        "outputId": "53a8b04f-c3eb-4f52-a8dc-8332e086eedc"
      },
      "outputs": [
        {
          "data": {
            "text/plain": [
              "array([ 0.01937218, -0.01937218,  0.01937218,  0.01937218, -0.01937218,\n",
              "       -0.01937218, -0.01937218, -0.01937218,  0.01937218,  0.01937218,\n",
              "        0.01937218, -0.01937218,  0.01937218,  0.01937218,  0.01937218,\n",
              "        0.01937218, -0.01937218, -0.01937218,  0.01937218, -0.01937218,\n",
              "        0.01937218, -0.01937218, -0.01937218,  0.01937218, -0.01937218,\n",
              "        0.01937218, -0.01937218, -0.01937218,  0.01937218,  0.01937218,\n",
              "        0.01937218, -0.01937218,  0.01937218, -0.01937218,  0.01937218,\n",
              "       -0.01937218,  0.01937218,  0.01937218,  0.01937218])"
            ]
          },
          "execution_count": 162,
          "metadata": {},
          "output_type": "execute_result"
        }
      ],
      "source": [
        "dtheta, cost_h = update_weights(X_val, y_pred, theta)\n",
        "cost_h"
      ]
    },
    {
      "cell_type": "code",
      "execution_count": 163,
      "id": "xwGWidSdPQg2",
      "metadata": {
        "colab": {
          "base_uri": "https://localhost:8080/"
        },
        "id": "xwGWidSdPQg2",
        "outputId": "ceb19b45-3e6c-4336-9e05-61b20b2fdfff"
      },
      "outputs": [
        {
          "data": {
            "text/plain": [
              "array([ 0.02596453,  0.02596453, -0.02596453, -0.02596453,  0.02596453,\n",
              "        0.02596453,  0.02596453,  0.02596453, -0.02596453, -0.02596453,\n",
              "       -0.02596453,  0.02596453,  0.02596453, -0.02596453, -0.02596453,\n",
              "       -0.02596453, -0.02596453,  0.02596453, -0.02596453,  0.02596453,\n",
              "        0.02596453,  0.02596453,  0.02596453, -0.02596453,  0.02596453,\n",
              "       -0.02596453, -0.02596453,  0.02596453,  0.02596453, -0.02596453,\n",
              "        0.02596453,  0.02596453,  0.02596453,  0.02596453, -0.02596453,\n",
              "       -0.02596453, -0.02596453, -0.02596453, -0.02596453])"
            ]
          },
          "execution_count": 163,
          "metadata": {},
          "output_type": "execute_result"
        }
      ],
      "source": [
        "y_rand = np.random.rand(*Y_val.shape)\n",
        "y_rand = y_rand >= 0.5\n",
        "dtheta, cost_h = update_weights(X_val, y_rand, theta)\n",
        "cost_h"
      ]
    },
    {
      "cell_type": "markdown",
      "id": "f0b6e3c5",
      "metadata": {
        "id": "f0b6e3c5"
      },
      "source": [
        "### Q3 \n",
        "``` Implement an iterative method that at each iterations selects a random theta and if this theta improves cross_entropy_loss keeps the theta, else discards the theta. plot the cross_entropy loss history (over iterations for X_val) with this method. (10 pts)```\n",
        "### Bonus\n",
        "``` Implement an iterative method that at each iterations gets a random *dtheta* and if  theta+learning_rate*dtheta improves cross_entropy_loss it updates  theta with dtheta, else discards dtheta. plot the cross_entropy loss history (over iterations for X_val) with this method. (10 pts)```"
      ]
    },
    {
      "cell_type": "code",
      "execution_count": 164,
      "id": "oG0KTozloK3Q",
      "metadata": {
        "id": "oG0KTozloK3Q"
      },
      "outputs": [],
      "source": [
        "def random_search(X_train, y_train, X_val, y_val, max_iter):\n",
        "    m, n = X_train.shape\n",
        "    theta = np.zeros((n, 1))\n",
        "    history = []\n",
        "    best_loss = float('inf')\n",
        "    for i in range(max_iter):\n",
        "        new_theta = np.random.rand(n, 1)\n",
        "        new_loss = compute_cross_entropy_loss(X_val, y_val, new_theta)\n",
        "        if new_loss < best_loss:\n",
        "            best_loss = new_loss\n",
        "            theta = new_theta\n",
        "        history.append(best_loss)\n",
        "    return theta, history\n"
      ]
    },
    {
      "cell_type": "code",
      "execution_count": 165,
      "id": "NgAiNc2XruQZ",
      "metadata": {
        "colab": {
          "base_uri": "https://localhost:8080/",
          "height": 279
        },
        "id": "NgAiNc2XruQZ",
        "outputId": "c87f2ccd-a6c4-45cc-ab3e-8ffda9e47094"
      },
      "outputs": [
        {
          "data": {
            "image/png": "[encoded data removed]",
            "text/plain": [
              "<Figure size 640x480 with 1 Axes>"
            ]
          },
          "metadata": {},
          "output_type": "display_data"
        }
      ],
      "source": [
        "best_theta, loss_history = random_search(X_train, Y_train, X_val, Y_val, 1000)\n",
        "plt.plot(loss_history)\n",
        "plt.xlabel('Iteration')\n",
        "plt.ylabel('Cross-entropy loss')\n",
        "plt.show()"
      ]
    },
    {
      "cell_type": "code",
      "execution_count": 166,
      "id": "tp9jTGFwsWFl",
      "metadata": {
        "id": "tp9jTGFwsWFl"
      },
      "outputs": [],
      "source": [
        "def gradient_descent(X_train, y_train, X_val, y_val, learning_rate, max_iter):\n",
        "    m, n = X_train.shape\n",
        "    theta = np.zeros((n, 1))\n",
        "    history = []\n",
        "    best_loss = float('inf')\n",
        "    for i in range(max_iter):\n",
        "        dtheta = np.random.randn(n, 1)\n",
        "        new_theta = theta + learning_rate * dtheta\n",
        "        new_loss = compute_cross_entropy_loss(X_val, y_val, new_theta)\n",
        "        if new_loss < best_loss:\n",
        "            best_loss = new_loss\n",
        "            theta = new_theta\n",
        "        history.append(best_loss)\n",
        "    return theta, history"
      ]
    },
    {
      "cell_type": "code",
      "execution_count": 167,
      "id": "sp-6OmzdsZxU",
      "metadata": {
        "colab": {
          "base_uri": "https://localhost:8080/",
          "height": 279
        },
        "id": "sp-6OmzdsZxU",
        "outputId": "1a373e03-e7bc-4e49-80f6-05850ebf7662"
      },
      "outputs": [
        {
          "data": {
            "image/png": "[encoded data removed]",
            "text/plain": [
              "<Figure size 640x480 with 1 Axes>"
            ]
          },
          "metadata": {},
          "output_type": "display_data"
        }
      ],
      "source": [
        "learning_rate = 0.01\n",
        "max_iter = 1000\n",
        "best_theta, loss_history = gradient_descent(X_train, Y_train, X_val, Y_val, learning_rate, max_iter)\n",
        "plt.plot(loss_history)\n",
        "plt.xlabel('Iteration')\n",
        "plt.ylabel('Cross-entropy loss')\n",
        "plt.show()"
      ]
    },
    {
      "cell_type": "markdown",
      "id": "6d3c90e2",
      "metadata": {
        "id": "6d3c90e2"
      },
      "source": [
        "### Q4\n",
        "\n",
        "``` From Lab1 get the gradient descent  -- update over entire training sample, update over a  sample, update over a batch of sample -- that worked best for you. Also play with learning rate to get to the best cross_entropy_loss.  plot the cross_entropy loss history (over iterations for X_val) with this method. (20 pts)```"
      ]
    },
    {
      "cell_type": "code",
      "execution_count": 168,
      "id": "dCpsKi0c9nMF",
      "metadata": {
        "colab": {
          "base_uri": "https://localhost:8080/",
          "height": 279
        },
        "id": "dCpsKi0c9nMF",
        "outputId": "3337ebb7-3cd6-4f00-b7ec-b762bca5c9ce"
      },
      "outputs": [
        {
          "data": {
            "image/png": "[encoded data removed]",
            "text/plain": [
              "<Figure size 640x480 with 1 Axes>"
            ]
          },
          "metadata": {},
          "output_type": "display_data"
        }
      ],
      "source": [
        "# Run gradient descent over the entire training sample\n",
        "\n",
        "def gradient_descent(X_train, y_train, X_val, y_val, learning_rate, max_iter):\n",
        "    m, n = X_train.shape\n",
        "    theta = np.zeros((n, 1))\n",
        "    history = []\n",
        "    best_loss = float('inf')\n",
        "    for i in range(max_iter):\n",
        "        dtheta = np.random.randn(n, 1)\n",
        "        new_theta = theta + learning_rate * dtheta\n",
        "        new_loss = compute_cross_entropy_loss(X_val, y_val, new_theta)\n",
        "        if new_loss < best_loss:\n",
        "            best_loss = new_loss\n",
        "            theta = new_theta\n",
        "        history.append(best_loss)\n",
        "    return theta, history\n",
        "\n",
        "learning_rate = 0.0001\n",
        "max_iter = 1000\n",
        "best_theta, loss_history = gradient_descent(X_train, Y_train, X_val, Y_val, learning_rate, max_iter)\n",
        "plt.plot(loss_history)\n",
        "plt.xlabel('Iteration')\n",
        "plt.ylabel('Cross-entropy loss')\n",
        "plt.show()"
      ]
    },
    {
      "cell_type": "raw",
      "id": "a7e1d087",
      "metadata": {
        "id": "a7e1d087"
      },
      "source": [
        "#There is an alternate to cross_entropy_loss for binary classification. It is known as hinge loss"
      ]
    },
    {
      "cell_type": "markdown",
      "id": "d037e9fa",
      "metadata": {
        "id": "d037e9fa"
      },
      "source": [
        "$l(x_i) =  max(0,1-y_i\\theta x_i)$ ```with the assumption that y_i = {+1, -1}```\n",
        "\n",
        "``` if y_i and \\theta x_i have same sign and |\\theta x_i| is larger than one, loss will be zero. That is prediction matches label and prediction has magnitude greater than one there is no loss. If prediction and label have opposite sign, loss will be greater than zero -- incorrect prediction there is a loss. There is also a loss if magnitude of prediction is less than zero even if they have the same sign. Hinge loss wants correct and incorrect classification to have a margin of atleast one. ```"
      ]
    },
    {
      "cell_type": "markdown",
      "id": "6b24ffbf",
      "metadata": {
        "id": "6b24ffbf"
      },
      "source": [
        "### Q5\n",
        "Implement Hinge loss and use random search method in Q3 to reduce loss and find a better theta. plto the hinge loss history (over iterations for X_val) with this method. (10 pts)\n",
        "### Bonus\n",
        "```\n",
        "Implement SGD update rule for hinge loss by first find derivative of hinge loss over theta. Use SGD to optimize hinge loss. plot the hinge loss history (over iterations for X_val) with this method. \n",
        "```"
      ]
    },
    {
      "cell_type": "code",
      "execution_count": 169,
      "id": "x4HqrCYMwmo1",
      "metadata": {
        "colab": {
          "base_uri": "https://localhost:8080/",
          "height": 279
        },
        "id": "x4HqrCYMwmo1",
        "outputId": "0b091d42-9e7b-46a6-fc5c-9c4fb91749b3"
      },
      "outputs": [
        {
          "data": {
            "image/png": "[encoded data removed]",
            "text/plain": [
              "<Figure size 640x480 with 1 Axes>"
            ]
          },
          "metadata": {},
          "output_type": "display_data"
        }
      ],
      "source": [
        "def hinge_loss(X, y, theta):\n",
        "    m = len(y)\n",
        "    h = X @ theta\n",
        "    loss = np.maximum(0, 1 - y * h)\n",
        "    return np.mean(loss)\n",
        "\n",
        "def gradient_descent(X_train, y_train, X_val, y_val, learning_rate, max_iter):\n",
        "    m, n = X_train.shape\n",
        "    theta = np.zeros((n, 1))\n",
        "    history = []\n",
        "    best_loss = float('inf')\n",
        "    for i in range(max_iter):\n",
        "        dtheta = np.random.randn(n, 1)\n",
        "        new_theta = theta + learning_rate * dtheta\n",
        "        new_loss = hinge_loss(X_val, y_val, new_theta)\n",
        "        if new_loss < best_loss:\n",
        "            best_loss = new_loss\n",
        "            theta = new_theta\n",
        "        history.append(best_loss)\n",
        "    return theta, history\n",
        "\n",
        "learning_rate = 0.01\n",
        "max_iter = 1000\n",
        "best_theta, loss_history = gradient_descent(X_train, Y_train, X_val, Y_val, learning_rate, max_iter)\n",
        "plt.plot(loss_history)\n",
        "plt.xlabel('Iteration')\n",
        "plt.ylabel('Hinge loss')\n",
        "plt.show()"
      ]
    },
    {
      "cell_type": "code",
      "execution_count": 170,
      "id": "azPqZo7Jq_OY",
      "metadata": {
        "colab": {
          "base_uri": "https://localhost:8080/",
          "height": 365
        },
        "id": "azPqZo7Jq_OY",
        "outputId": "3f6fcf72-427d-4c28-bea4-404ef325cd74"
      },
      "outputs": [
        {
          "ename": "UnboundLocalError",
          "evalue": "local variable 'perm_indices' referenced before assignment",
          "output_type": "error",
          "traceback": [
            "\u001b[0;31m---------------------------------------------------------------------------\u001b[0m",
            "\u001b[0;31mUnboundLocalError\u001b[0m                         Traceback (most recent call last)",
            "Cell \u001b[0;32mIn[170], line 42\u001b[0m\n\u001b[1;32m     38\u001b[0m       val_loss_history\u001b[39m.\u001b[39mappend(val_loss)\n\u001b[1;32m     40\u001b[0m     \u001b[39mreturn\u001b[39;00m theta, train_loss_hist, val_loss_hist\n\u001b[0;32m---> 42\u001b[0m theta, train_loss_history, val_loss_history \u001b[39m=\u001b[39m sgd_hinge(X_train, Y_train, X_val, Y_val, alpha\u001b[39m=\u001b[39;49m\u001b[39m0.01\u001b[39;49m, epochs\u001b[39m=\u001b[39;49m\u001b[39m100\u001b[39;49m)\n\u001b[1;32m     44\u001b[0m \u001b[39m# plot loss history\u001b[39;00m\n\u001b[1;32m     45\u001b[0m plt\u001b[39m.\u001b[39mplot(train_loss_history, label\u001b[39m=\u001b[39m\u001b[39m'\u001b[39m\u001b[39mtrain\u001b[39m\u001b[39m'\u001b[39m)\n",
            "Cell \u001b[0;32mIn[170], line 21\u001b[0m, in \u001b[0;36msgd_hinge\u001b[0;34m(X_train, Y_train_hinge, X_val, Y_val_hinge, alpha, epochs)\u001b[0m\n\u001b[1;32m     18\u001b[0m \u001b[39mfor\u001b[39;00m epoch \u001b[39min\u001b[39;00m \u001b[39mrange\u001b[39m(epochs):\n\u001b[1;32m     19\u001b[0m   \u001b[39mfor\u001b[39;00m i \u001b[39min\u001b[39;00m \u001b[39mrange\u001b[39m(N_train):\n\u001b[1;32m     20\u001b[0m     \u001b[39m# Get the next random data point\u001b[39;00m\n\u001b[0;32m---> 21\u001b[0m     idx \u001b[39m=\u001b[39m perm_indices[i]\n\u001b[1;32m     22\u001b[0m     x \u001b[39m=\u001b[39m X_train[idx]\n\u001b[1;32m     23\u001b[0m     y \u001b[39m=\u001b[39m y_train[idx]\n",
            "\u001b[0;31mUnboundLocalError\u001b[0m: local variable 'perm_indices' referenced before assignment"
          ]
        }
      ],
      "source": [
        "def hinge_loss(y, X, theta):\n",
        "    return np.maximum(0, 1 - y * (X @ theta))\n",
        "\n",
        "def hinge_loss_grad(X, y, theta):\n",
        "    margin = y * (X @ theta)\n",
        "    grad = np.zeros(theta.shape)\n",
        "    grad[margin < 1] = -y[margin < 1, None] * X[margin < 1]\n",
        "    return grad.mean(axis=0)\n",
        "\n",
        "def sgd_hinge(X_train, Y_train_hinge, X_val, Y_val_hinge, alpha=0.01, epochs=100):\n",
        "    theta = np.zeros((X_train.shape[1], 1))\n",
        "    train_loss_hist = []\n",
        "    val_loss_hist = []\n",
        "    num_train = X_train.shape[0]\n",
        "    num_val = X_val.shape[0]\n",
        "    N_train = X_train.shape[0]\n",
        "\n",
        "    for epoch in range(epochs):\n",
        "      for i in range(N_train):\n",
        "        # Get the next random data point\n",
        "        idx = perm_indices[i]\n",
        "        x = X_train[idx]\n",
        "        y = y_train[idx]\n",
        "\n",
        "        # Compute the hinge loss and its gradient\n",
        "        loss, grad = hinge_loss_grad(x, y, w)\n",
        "\n",
        "        # Update the weight vector using SGD\n",
        "        w -= learning_rate * grad\n",
        "\n",
        "    # Shuffle the training set for the next epoch\n",
        "      perm_indices = np.random.permutation(N_train)\n",
        "\n",
        "    # Compute the validation loss\n",
        "      val_loss = hinge_loss(X_val, Y_val, w)\n",
        "\n",
        "    # Store the validation loss history\n",
        "      val_loss_history.append(val_loss)\n",
        "\n",
        "    return theta, train_loss_hist, val_loss_hist\n",
        "\n",
        "theta, train_loss_history, val_loss_history = sgd_hinge(X_train, Y_train, X_val, Y_val, alpha=0.01, epochs=100)\n",
        "\n",
        "# plot loss history\n",
        "plt.plot(train_loss_history, label='train')\n",
        "plt.plot(val_loss_history, label='val')\n",
        "plt.xlabel('Epoch')\n",
        "plt.ylabel('Hinge Loss')\n",
        "plt.legend()\n",
        "plt.show()"
      ]
    },
    {
      "cell_type": "markdown",
      "id": "8b5098cb",
      "metadata": {
        "id": "8b5098cb"
      },
      "source": [
        "### Q6\n",
        "\n",
        "```  In this problem you will create your own target function f (probability in this case) and data set D to see how Logistic Regression works. For simplicity, we will take f to be a 0/1 probability so y is a deterministic function of x. Take n = 2 so you can visualize the problem, and let X = [−1, 1]×[−1, 1] with uniform probability of picking each x ∈ X . Choose a line in the plane as the boundary between f(x) = 1 (where y has to be +1) and f(x) = 0 (where y has to be −1) by taking two random, uniformly distributed points from X and taking the line passing through them as the boundary between y = ±1. Pick m = 100 training points at random from X, and evaluate the outputs y_m for each of these points x_m.```\n",
        "\n",
        "```\n",
        "Run Logistic Regression with Stochastic Gradient Descent to find g, and estimate E_out (the cross entropy error) by generating a sufficiently large, separate set of points to evaluate the error. Repeat the experiment for 100 runs with different targets and take the average. Initialize the weight vector of Logistic Regression to all zeros in each run. Stop the algorithm when ∥w(t−1) − w(t)∥ < 0.01, where w(t) denotes the weight vector at the end of epoch t. An epoch is a full pass through the N data points (use a random permutation of 1, 2, · · · , N to present the data points to the algorithm within each epoch, and use different permutations for different epochs). Use a learning rate of 0.01.\n",
        "```"
      ]
    },
    {
      "cell_type": "code",
      "execution_count": null,
      "id": "bb64c4b8",
      "metadata": {
        "colab": {
          "base_uri": "https://localhost:8080/",
          "height": 279
        },
        "id": "bb64c4b8",
        "outputId": "9516471e-a985-47d7-ce3e-b46992788e7f"
      },
      "outputs": [],
      "source": [
        "def f(x):\n",
        "    \"\"\"\n",
        "    Target function to classify the points above or below a random line\n",
        "    \"\"\"\n",
        "    # Generate a random line between two points\n",
        "    point1 = (-1, -1)\n",
        "    point2 = (1, 1)\n",
        "    a = (point2[1] - point1[1]) / (point2[0] - point1[0])\n",
        "    b = point1[1] - a * point1[0]\n",
        "    \n",
        "    # Evaluate the output y based on the position of x with respect to the line\n",
        "    if x[1] > a * x[0] + b:\n",
        "        return 1\n",
        "    else:\n",
        "        return -1\n",
        "\n",
        "m = 100\n",
        "X = np.random.uniform(low=-1, high=1, size=(m, 2))\n",
        "\n",
        "# Evaluate the output y for each point in X using the target function f\n",
        "y = np.array([f(x) for x in X])\n",
        "\n",
        "plt.scatter(X[:, 0][y == 1], X[:, 1][y == 1], marker='o', color='b', label='y=+1')\n",
        "plt.scatter(X[:, 0][y == -1], X[:, 1][y == -1], marker='x', color='r', label='y=-1')\n",
        "plt.xlabel('x1')\n",
        "plt.ylabel('x2')\n",
        "plt.legend()\n",
        "plt.show()"
      ]
    },
    {
      "cell_type": "code",
      "execution_count": null,
      "id": "CYfhabPM348d",
      "metadata": {
        "colab": {
          "base_uri": "https://localhost:8080/"
        },
        "id": "CYfhabPM348d",
        "outputId": "c3e51366-88a9-4f1f-d953-a8e8f5e77284"
      },
      "outputs": [],
      "source": [
        "# Define the weight vector\n",
        "w = np.zeros(3)\n",
        "\n",
        "# Define the learning rate\n",
        "lr = 0.01\n",
        "\n",
        "# Define the stopping criterion\n",
        "epsilon = 0.01\n",
        "\n",
        "# Define the number of epochs\n",
        "epochs = 100\n",
        "\n",
        "# Define the number of training points\n",
        "m = 100\n",
        "\n",
        "# Define the number of test points\n",
        "test_size = 10000\n",
        "\n",
        "# Define the number of runs\n",
        "runs = 100\n",
        "\n",
        "# Define the cross-entropy error\n",
        "ce_error = np.zeros(runs)\n",
        "\n",
        "# Repeat for each run\n",
        "for r in range(runs):\n",
        "    # Generate the training data\n",
        "    X_train = np.random.uniform(-1, 1, size=(m, 2))\n",
        "    y_train = np.sign((X_train[:, 1] - X_train[:, 0]) * (np.random.uniform() * 2 - 1))\n",
        "    X_train = np.hstack((np.ones((m, 1)), X_train))\n",
        "    \n",
        "    # Generate the test data\n",
        "    X_test = np.random.uniform(-1, 1, size=(test_size, 2))\n",
        "    y_test = np.sign((X_test[:, 1] - X_test[:, 0]) * (np.random.uniform() * 2 - 1))\n",
        "    X_test = np.hstack((np.ones((test_size, 1)), X_test))\n",
        "    \n",
        "    # Perform stochastic gradient descent\n",
        "    for epoch in range(epochs):\n",
        "        # Randomize the order of the training points\n",
        "        perm = np.random.permutation(m)\n",
        "        X_train = X_train[perm, :]\n",
        "        y_train = y_train[perm]\n",
        "        \n",
        "        # Iterate over the training points\n",
        "        for i in range(m):\n",
        "            # Compute the sigmoid function and its gradient\n",
        "            sig = 1 / (1 + np.exp(-y_train[i] * X_train[i, :].dot(w)))\n",
        "            grad = (-y_train[i] * sig) * X_train[i, :]\n",
        "            \n",
        "            # Update the weight vector\n",
        "            w_new = w - lr * grad\n",
        "            \n",
        "            # Check the stopping criterion\n",
        "            if np.linalg.norm(w_new - w) < epsilon:\n",
        "                w = w_new\n",
        "                break\n",
        "            \n",
        "            w = w_new\n",
        "    \n",
        "    # Compute the cross-entropy error\n",
        "    ce_error[r] = np.mean(np.log(1 + np.exp(-y_test * X_test.dot(w))))\n",
        "    \n",
        "# Compute the average cross-entropy error\n",
        "avg_ce_error = np.mean(ce_error)\n",
        "\n",
        "print(avg_ce_error)"
      ]
    },
    {
      "cell_type": "code",
      "execution_count": null,
      "id": "8SMIfp2RIBbR",
      "metadata": {
        "colab": {
          "base_uri": "https://localhost:8080/",
          "height": 552
        },
        "id": "8SMIfp2RIBbR",
        "outputId": "b19c70bc-16ec-4105-c53e-40bd3521ac46"
      },
      "outputs": [],
      "source": [
        "import numpy as np\n",
        "import matplotlib.pyplot as plt\n",
        "\n",
        "# Parameter values\n",
        "n = 0.03  # Population growth rate\n",
        "delta = 0.07  # Depreciation rate\n",
        "s = 0.2  # Savings rate\n",
        "A = 1  # Technology level\n",
        "\n",
        "# Production function\n",
        "def Y(K, L):\n",
        "    return A * (K ** 0.5) * (L ** 0.5)\n",
        "\n",
        "# Capital accumulation equation\n",
        "def K_dot(K, L):\n",
        "    return s * Y(K, L) - delta * K\n",
        "\n",
        "# Plotting the Solow model diagram\n",
        "fig, ax = plt.subplots(figsize=(8, 6))\n",
        "\n",
        "# Capital grid\n",
        "k_grid = np.linspace(0, 100, 1000)\n",
        "ax.plot(k_grid, Y(k_grid, 1), 'b-', lw=2, alpha=0.8)\n",
        "\n",
        "# Steady state level of capital per worker\n",
        "k_star = ((s * A) / (delta + n)) ** 2\n",
        "y_star = Y(k_star, 1)\n",
        "c_star = (1 - s) * y_star\n",
        "\n",
        "# Initial level of capital per worker\n",
        "k0 = k_star / 2\n",
        "y0 = Y(k0, 1)\n",
        "c0 = (1 - s) * y0\n",
        "\n",
        "# Transition path to new steady state\n",
        "T = 20\n",
        "k_path = np.zeros(T)\n",
        "y_path = np.zeros(T)\n",
        "c_path = np.zeros(T)\n",
        "k_path[0] = k0\n",
        "y_path[0] = y0\n",
        "c_path[0] = c0\n",
        "for t in range(1, T):\n",
        "    k_path[t] = K_dot(k_path[t-1], 1) + k_path[t-1]\n",
        "    y_path[t] = Y(k_path[t], 1)\n",
        "    c_path[t] = (1 - s) * y_path[t]\n",
        "\n",
        "# Plotting the transition path\n",
        "ax.plot(k_path, y_path, 'g-', lw=2, alpha=0.8)\n",
        "\n",
        "# Plotting the initial steady state\n",
        "ax.plot(k0, y0, 'ro', ms=10)\n",
        "ax.annotate('Initial Steady State', xy=(k0, y0), xytext=(k0+10, y0-5), fontsize=12,\n",
        "            arrowprops=dict(facecolor='black', shrink=0.05))\n",
        "\n",
        "# Plotting the new steady state\n",
        "ax.plot(k_star, y_star, 'ro', ms=10)\n",
        "ax.annotate('New Steady State', xy=(k_star, y_star), xytext=(k_star-30, y_star+10), fontsize=12,\n",
        "            arrowprops=dict(facecolor='black', shrink=0.05))\n",
        "\n",
        "# Setting plot parameters\n",
        "ax.set_xlabel('Capital per Worker')\n",
        "ax.set_ylabel('Output per Worker')\n",
        "ax.set_xlim([0, 100])\n",
        "ax.set_ylim([0, 10])\n",
        "ax.set_title('Solow Model Diagram with Transition to New Steady State')\n",
        "\n",
        "plt.show()"
      ]
    }
  ],
  "metadata": {
    "colab": {
      "provenance": []
    },
    "kernelspec": {
      "display_name": "Python 3 (ipykernel)",
      "language": "python",
      "name": "python3"
    },
    "language_info": {
      "codemirror_mode": {
        "name": "ipython",
        "version": 3
      },
      "file_extension": ".py",
      "mimetype": "text/x-python",
      "name": "python",
      "nbconvert_exporter": "python",
      "pygments_lexer": "ipython3",
      "version": "3.10.9"
    }
  },
  "nbformat": 4,
  "nbformat_minor": 5
}
